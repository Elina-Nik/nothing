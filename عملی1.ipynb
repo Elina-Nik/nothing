{
  "nbformat": 4,
  "nbformat_minor": 0,
  "metadata": {
    "colab": {
      "provenance": [],
      "authorship_tag": "ABX9TyPOu3i7eUzX7+oIJKk9Y7LE",
      "include_colab_link": true
    },
    "kernelspec": {
      "name": "python3",
      "display_name": "Python 3"
    },
    "language_info": {
      "name": "python"
    }
  },
  "cells": [
    {
      "cell_type": "markdown",
      "metadata": {
        "id": "view-in-github",
        "colab_type": "text"
      },
      "source": [
        "<a href=\"https://colab.research.google.com/github/Elina-Nik/nothing/blob/main/%D8%B9%D9%85%D9%84%DB%8C1.ipynb\" target=\"_parent\"><img src=\"https://colab.research.google.com/assets/colab-badge.svg\" alt=\"Open In Colab\"/></a>"
      ]
    },
    {
      "cell_type": "code",
      "execution_count": 1,
      "metadata": {
        "colab": {
          "base_uri": "https://localhost:8080/"
        },
        "id": "VYL5SwS9lYRG",
        "outputId": "bfe9638c-374b-4f4d-d021-e30adb2d8111"
      },
      "outputs": [
        {
          "output_type": "stream",
          "name": "stdout",
          "text": [
            "Stack is empty\n",
            "150\n",
            "50\n",
            "[3, 5, 2, 8, 4]\n",
            "[2, 5, 3, 4, 8]\n"
          ]
        }
      ],
      "source": [
        "class Stack:\n",
        "    def __init__(self):\n",
        "        self.stack = []\n",
        "        limit = 10\n",
        "        self.limit = limit\n",
        "\n",
        "    def is_empty(self):\n",
        "        if len(self.stack) <= 0:\n",
        "            return True\n",
        "        else:\n",
        "            return False\n",
        "\n",
        "    def pop(self):\n",
        "        if len(self.stack) <= 0:\n",
        "            return -1\n",
        "        else:\n",
        "            return self.stack.pop()\n",
        "\n",
        "    def push(self , data):\n",
        "        if len(self.stack) >= self.limit:\n",
        "            return -1\n",
        "        else:\n",
        "            self.stack.append(data)\n",
        "\n",
        "    def peek(self):\n",
        "        if len(self.stack) <= 0:\n",
        "            return -1\n",
        "        else:\n",
        "            return self.stack[len(self.stack) - 1]\n",
        "\n",
        "    def display(self):\n",
        "        if len(self.stack) <= 0:\n",
        "            print(\"Stack is empty\")\n",
        "        else:\n",
        "            for i in range(len(self.stack)):\n",
        "                print(self.stack[len(self.stack) - i - 1])\n",
        "    def reverse(self):\n",
        "        s1 = Stack()\n",
        "        s2 = Stack()\n",
        "        while not self.stack.is_empty():\n",
        "            s1.push(self.stack.pop())\n",
        "        while not s1.is_empty():\n",
        "            s2.push(s1.pop())\n",
        "        while not s2.is_empty():\n",
        "            self.stack.push(s2.pop())\n",
        "\n",
        "    def max_to_min(self):\n",
        "        if not self.is_empty():\n",
        "            max_num = max(self.stack)\n",
        "            min_num = min(self.stack)\n",
        "            max_index = self.stack.index(max_num)\n",
        "            min_index = self.stack.index(min_num)\n",
        "            num1 = self.stack[0]\n",
        "            last_num = self.stack[len(self.stack) - 1]\n",
        "            self.stack[0] = min_num\n",
        "            self.stack[len(self.stack) - 1] = max_num\n",
        "            self.stack[min_index] = num1\n",
        "            self.stack[max_index] = last_num\n",
        "\n",
        "\n",
        "elina = Stack()\n",
        "elina.display()\n",
        "elina.push(50)\n",
        "elina.push(150)\n",
        "elina.display()\n",
        "stack = Stack()\n",
        "stack.push(3)\n",
        "stack.push(5)\n",
        "stack.push(2)\n",
        "stack.push(8)\n",
        "stack.push(4)\n",
        "print(stack.stack)\n",
        "stack.max_to_min()\n",
        "print(stack.stack)"
      ]
    }
  ]
}