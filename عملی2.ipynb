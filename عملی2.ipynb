{
  "nbformat": 4,
  "nbformat_minor": 0,
  "metadata": {
    "colab": {
      "provenance": [],
      "authorship_tag": "ABX9TyPFMWazDaCCcb8vyxy0U8dz",
      "include_colab_link": true
    },
    "kernelspec": {
      "name": "python3",
      "display_name": "Python 3"
    },
    "language_info": {
      "name": "python"
    }
  },
  "cells": [
    {
      "cell_type": "markdown",
      "metadata": {
        "id": "view-in-github",
        "colab_type": "text"
      },
      "source": [
        "<a href=\"https://colab.research.google.com/github/Elina-Nik/nothing/blob/main/%D8%B9%D9%85%D9%84%DB%8C2.ipynb\" target=\"_parent\"><img src=\"https://colab.research.google.com/assets/colab-badge.svg\" alt=\"Open In Colab\"/></a>"
      ]
    },
    {
      "cell_type": "code",
      "execution_count": null,
      "metadata": {
        "id": "yGntDvySl8Mg"
      },
      "outputs": [],
      "source": [
        "class BTnode:\n",
        "   def __init__(self, data, left=None, right=None):\n",
        "      self.data = data\n",
        "      self.left = left\n",
        "      self.right = right\n",
        "\n",
        "class BTree:\n",
        "   def __init__(self, root):\n",
        "      self.root = root\n",
        "\n",
        "   def inorder(self, root):\n",
        "      if root is None:\n",
        "         return\n",
        "      else:\n",
        "         self.inorder(root.left)\n",
        "         print(root.data)\n",
        "         self.inorder(root.right)\n",
        "\n",
        "   def postorder(self, root):\n",
        "      if root is None:\n",
        "         return\n",
        "      else:\n",
        "         self.postorder(root.left)\n",
        "         self.postorder(root.right)\n",
        "         print(root.data)\n",
        "\n",
        "   def preorder(self, root):\n",
        "      if root is None:\n",
        "         return\n",
        "      else:\n",
        "         print(root.data)\n",
        "         self.preorder(root.left)\n",
        "         self.preorder(root.right)\n",
        "\n",
        "   def count_nodes(self, root, target_level, level_do=1):\n",
        "      if root is None or level_do > target_level:\n",
        "         return 0, 0, 0\n",
        "\n",
        "      if level_do == target_level:\n",
        "         leaves = nodes_one_child = nodes_two_children = 0\n",
        "\n",
        "         if root.left is None and root.right is None:\n",
        "            leaves = 1\n",
        "         elif root.left is not None and root.right is not None:\n",
        "            nodes_two_children = 1\n",
        "         else:\n",
        "            nodes_one_child = 1\n",
        "\n",
        "         return leaves, nodes_one_child, nodes_two_children\n",
        "\n",
        "      left_leaves, left_one_child, left_two_children = self.count_nodes(root.left, target_level, level_do + 1)\n",
        "      right_leaves, right_one_child, right_two_children = self.count_nodes(root.right, target_level, level_do + 1)\n",
        "\n",
        "      return (left_leaves + right_leaves,\n",
        "              left_one_child + right_one_child,\n",
        "              left_two_children + right_two_children)\n",
        "\n",
        "\n",
        "   def display_node_counts(self):\n",
        "      level = 3\n",
        "      leaves, nodes_one_child, nodes_two_children = self.count_nodes(self.root, level)\n",
        "      print(f\"Nodes : {leaves + nodes_one_child + nodes_two_children}\")\n",
        "      print(f\"Leaves : {leaves}\")\n",
        "      print(f\"Nodes with one child : {nodes_one_child}\")\n",
        "      print(f\"Nodes with two children : {nodes_two_children}\")\n",
        "\n",
        "root = BTnode(1, BTnode(2), BTnode(3, None, BTnode(4)))\n",
        "eli = BTree(root)\n",
        "eli.display_node_counts()\n",
        "\n"
      ]
    }
  ]
}