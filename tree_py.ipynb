{
  "nbformat": 4,
  "nbformat_minor": 0,
  "metadata": {
    "colab": {
      "provenance": [],
      "authorship_tag": "ABX9TyPz456igDvYKH4QNFI7fpa5",
      "include_colab_link": true
    },
    "kernelspec": {
      "name": "python3",
      "display_name": "Python 3"
    },
    "language_info": {
      "name": "python"
    }
  },
  "cells": [
    {
      "cell_type": "markdown",
      "metadata": {
        "id": "view-in-github",
        "colab_type": "text"
      },
      "source": [
        "<a href=\"https://colab.research.google.com/github/Elina-Nik/nothing/blob/main/tree_py.ipynb\" target=\"_parent\"><img src=\"https://colab.research.google.com/assets/colab-badge.svg\" alt=\"Open In Colab\"/></a>"
      ]
    },
    {
      "cell_type": "code",
      "execution_count": 1,
      "metadata": {
        "colab": {
          "base_uri": "https://localhost:8080/"
        },
        "id": "WQtRFRHiXkC-",
        "outputId": "e0e120a5-3ac3-4ad0-ddfa-4c0e73f9b24e"
      },
      "outputs": [
        {
          "output_type": "stream",
          "name": "stdout",
          "text": [
            "2\n",
            "1\n",
            "3\n",
            "4\n"
          ]
        }
      ],
      "source": [
        "class BTnode:\n",
        "   def __init__(self, data, left=None, right=None):\n",
        "      self.data = data\n",
        "      self.left = left\n",
        "      self.right = right\n",
        "\n",
        "class BTree:\n",
        "   def __init__(self, root):\n",
        "      self.root = root\n",
        "\n",
        "   def inorder(self, root):\n",
        "      if root is None:\n",
        "         return\n",
        "      else:\n",
        "         self.inorder(root.left)\n",
        "         print(root.data)\n",
        "         self.inorder(root.right)\n",
        "\n",
        "   def postorder(self, root):\n",
        "      if root is None:\n",
        "         return\n",
        "      else:\n",
        "         self.postorder(root.left)\n",
        "         self.postorder(root.right)\n",
        "         print(root.data)\n",
        "\n",
        "   def preorder(self, root):\n",
        "      if root is None:\n",
        "         return\n",
        "      else:\n",
        "         print(root.data)\n",
        "         self.preorder(root.left)\n",
        "         self.preorder(root.right)\n",
        "\n",
        "n = BTnode(1, BTnode(2), BTnode(3, None, BTnode(4)))\n",
        "tree = BTree(n)\n",
        "tree.inorder(n)"
      ]
    },
    {
      "cell_type": "code",
      "source": [
        "class NodeBst:\n",
        "  def__init__(self, data, left=None, right=None):\n",
        "    self.key = data\n",
        "    self.right = right\n",
        "    self.left = left\n",
        "\n",
        "def searchbst(root , k):\n",
        "  if root is None or root.key == k:\n",
        "      return root\n",
        "  if k > root.key:\n",
        "      return searchbst(root.right , k)\n",
        "  return searchbst(root.Left , k)\n",
        "\n",
        "def insertbst(root , k):\n",
        "  if root is None:\n",
        "      return NodeBst(k)\n",
        "  if k < root.key:\n",
        "      root.left = insertbst(root.left , k)\n",
        "  else:\n",
        "      root.right = insertbst(root.right , k)\n",
        "\n",
        "def minvaluebst(root):\n",
        "  if root in None:\n",
        "      return root\n",
        "  while root.left is not None:\n",
        "      root = root.left\n",
        "  return root.key\n",
        "\n",
        "def minNodebst(r):\n",
        "  if r.Left is None:\n",
        "      return r\n",
        "  else:\n",
        "      minNodebst(r.left)\n",
        "\n",
        "\n",
        "r = NodeBst(5)\n",
        "r.left = NodeBst(3)\n",
        "r.left.left = NodeBst(2)\n",
        "r.left.right = NodeBst(4)\n",
        "r.right = NodeBst(8)\n",
        "searchbst(r , 15)\n"
      ],
      "metadata": {
        "colab": {
          "base_uri": "https://localhost:8080/",
          "height": 142
        },
        "id": "fccb_t9maUxq",
        "outputId": "59b91bd7-bdf3-4b8e-e7f3-c8cf0c4a39e0"
      },
      "execution_count": 5,
      "outputs": [
        {
          "output_type": "error",
          "ename": "IndentationError",
          "evalue": "ignored",
          "traceback": [
            "\u001b[0;36m  File \u001b[0;32m\"<ipython-input-5-ebecf94fcb70>\"\u001b[0;36m, line \u001b[0;32m3\u001b[0m\n\u001b[0;31m    self.key = data\u001b[0m\n\u001b[0m    ^\u001b[0m\n\u001b[0;31mIndentationError\u001b[0m\u001b[0;31m:\u001b[0m unexpected indent\n"
          ]
        }
      ]
    }
  ]
}