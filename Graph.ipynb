{
  "nbformat": 4,
  "nbformat_minor": 0,
  "metadata": {
    "colab": {
      "provenance": [],
      "authorship_tag": "ABX9TyMy4JTjwlB7MGYxoVEu9fBk",
      "include_colab_link": true
    },
    "kernelspec": {
      "name": "python3",
      "display_name": "Python 3"
    },
    "language_info": {
      "name": "python"
    }
  },
  "cells": [
    {
      "cell_type": "markdown",
      "metadata": {
        "id": "view-in-github",
        "colab_type": "text"
      },
      "source": [
        "<a href=\"https://colab.research.google.com/github/Elina-Nik/nothing/blob/main/Graph.ipynb\" target=\"_parent\"><img src=\"https://colab.research.google.com/assets/colab-badge.svg\" alt=\"Open In Colab\"/></a>"
      ]
    },
    {
      "cell_type": "code",
      "execution_count": 6,
      "metadata": {
        "id": "sgKEkWnHmfqJ",
        "outputId": "969febcd-15e0-4e52-bd9e-96d2d4e1c57d",
        "colab": {
          "base_uri": "https://localhost:8080/"
        }
      },
      "outputs": [
        {
          "output_type": "stream",
          "name": "stdout",
          "text": [
            "0  1  1  0  \n",
            "1  0  1  0  \n",
            "1  1  0  1  \n",
            "0  0  1  0  \n"
          ]
        }
      ],
      "source": [
        "class Graph:\n",
        "    def __init__(self, n):\n",
        "        self.size = n\n",
        "        self.m = []\n",
        "        for _ in range(n):\n",
        "            self.m.append([0 for i in range(n)])\n",
        "\n",
        "    def add_edge(self, v1, v2):\n",
        "        self.m[v1][v2] = 1\n",
        "        self.m[v2][v1] = 1\n",
        "\n",
        "    def display(self):\n",
        "        for i in range(self.size):\n",
        "            for j in range(self.size):\n",
        "                print(self.m[i][j], end=\"  \")\n",
        "            print()\n",
        "#### main #######\n",
        "k = Graph(4)\n",
        "k.add_edge(0, 1)\n",
        "k.add_edge(0, 2)\n",
        "k.add_edge(1, 2)\n",
        "k.add_edge(2, 3)\n",
        "k.display()"
      ]
    }
  ]
}