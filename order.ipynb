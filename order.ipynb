{
  "nbformat": 4,
  "nbformat_minor": 0,
  "metadata": {
    "colab": {
      "provenance": [],
      "authorship_tag": "ABX9TyPfeKFeeKanFPlsMzM/gMOY",
      "include_colab_link": true
    },
    "kernelspec": {
      "name": "python3",
      "display_name": "Python 3"
    },
    "language_info": {
      "name": "python"
    }
  },
  "cells": [
    {
      "cell_type": "markdown",
      "metadata": {
        "id": "view-in-github",
        "colab_type": "text"
      },
      "source": [
        "<a href=\"https://colab.research.google.com/github/Elina-Nik/nothing/blob/main/order.ipynb\" target=\"_parent\"><img src=\"https://colab.research.google.com/assets/colab-badge.svg\" alt=\"Open In Colab\"/></a>"
      ]
    },
    {
      "cell_type": "code",
      "execution_count": 1,
      "metadata": {
        "id": "6PdvHIsgkVDy",
        "outputId": "991312aa-e739-4ffa-97e4-fb8577725f8c",
        "colab": {
          "base_uri": "https://localhost:8080/"
        }
      },
      "outputs": [
        {
          "output_type": "stream",
          "name": "stdout",
          "text": [
            "6\n"
          ]
        }
      ],
      "source": [
        "def max(list_num):\n",
        "    x = list_num[0]\n",
        "    for i in range(1 , len(list_num)):\n",
        "        if list_num[i] > x:\n",
        "            x = list_num[i]\n",
        "    return x\n",
        "\n",
        "list_numbers = [1 , 2 , 3 , 4 , 5 , 6]\n",
        "print(max(list_numbers))"
      ]
    },
    {
      "cell_type": "code",
      "source": [
        "def f(x , y , n):\n",
        "    if x > y:\n",
        "        for i in range(n):\n",
        "            print(i)\n",
        "    else:\n",
        "        for i in range(n):\n",
        "            for j in range(n):\n",
        "                print(i , j)\n",
        "\n",
        "f(3 , 4 , 6)"
      ],
      "metadata": {
        "id": "2i4nrVh3kkhJ",
        "outputId": "199398db-222d-481b-fefc-85f1edd267ba",
        "colab": {
          "base_uri": "https://localhost:8080/"
        }
      },
      "execution_count": 2,
      "outputs": [
        {
          "output_type": "stream",
          "name": "stdout",
          "text": [
            "0 0\n",
            "0 1\n",
            "0 2\n",
            "0 3\n",
            "0 4\n",
            "0 5\n",
            "1 0\n",
            "1 1\n",
            "1 2\n",
            "1 3\n",
            "1 4\n",
            "1 5\n",
            "2 0\n",
            "2 1\n",
            "2 2\n",
            "2 3\n",
            "2 4\n",
            "2 5\n",
            "3 0\n",
            "3 1\n",
            "3 2\n",
            "3 3\n",
            "3 4\n",
            "3 5\n",
            "4 0\n",
            "4 1\n",
            "4 2\n",
            "4 3\n",
            "4 4\n",
            "4 5\n",
            "5 0\n",
            "5 1\n",
            "5 2\n",
            "5 3\n",
            "5 4\n",
            "5 5\n"
          ]
        }
      ]
    },
    {
      "cell_type": "code",
      "source": [
        "def unique(s):\n",
        "    for j in range(len(s)):\n",
        "        for i in range(j + 1 , len(s)):\n",
        "            if s[j] == s[i]:\n",
        "                return False\n",
        "    return True\n",
        "a = [1 , 4 , 5 , 7 , 3 , 9 , 9]\n",
        "print(unique(a))\n",
        "b = [55 , 77 , 34 , 79, 11, 5, 8 , 3, 36]\n",
        "print(unique(b))"
      ],
      "metadata": {
        "id": "u9nP9yiFkn2P",
        "outputId": "bbe8c557-75e8-4267-fb62-8979b5bd8f0e",
        "colab": {
          "base_uri": "https://localhost:8080/"
        }
      },
      "execution_count": 3,
      "outputs": [
        {
          "output_type": "stream",
          "name": "stdout",
          "text": [
            "False\n",
            "True\n"
          ]
        }
      ]
    },
    {
      "cell_type": "code",
      "source": [
        "def avg(s):\n",
        "    n = len(s)\n",
        "    a = [0] * n\n",
        "    for j in range(n):\n",
        "        total = 0\n",
        "        for i in range(j + 1):\n",
        "            total += s[i]\n",
        "        a[j] = total // (j + 1)\n",
        "    return a\n",
        "\n",
        "list_num = [10 , 20 , 30]\n",
        "print(avg(list_num))"
      ],
      "metadata": {
        "id": "OxoofxosksUI",
        "outputId": "1a70b4f7-ce1b-4682-919a-e9bb633b63ae",
        "colab": {
          "base_uri": "https://localhost:8080/"
        }
      },
      "execution_count": 4,
      "outputs": [
        {
          "output_type": "stream",
          "name": "stdout",
          "text": [
            "[10, 15, 20]\n"
          ]
        }
      ]
    },
    {
      "cell_type": "code",
      "source": [
        "def avg(s):\n",
        "    n = len(s)\n",
        "    a = [0] * n\n",
        "    total = 0\n",
        "    for i in range(n):\n",
        "        total += s[i]\n",
        "        a[i] = total // (i + 1)\n",
        "    return a\n",
        "\n",
        "list = [10 , 20 , 30]\n",
        "print(avg(list))"
      ],
      "metadata": {
        "id": "hOQCdtzMkw2u",
        "outputId": "bcbd3b64-2ef2-4538-da4c-2c4c1514fa98",
        "colab": {
          "base_uri": "https://localhost:8080/"
        }
      },
      "execution_count": 6,
      "outputs": [
        {
          "output_type": "stream",
          "name": "stdout",
          "text": [
            "[10, 15, 20]\n"
          ]
        }
      ]
    },
    {
      "cell_type": "code",
      "source": [
        "def disjoint(a , b , c):\n",
        "    for i in a:\n",
        "        for j in b:\n",
        "            if (i == j):\n",
        "                for k in c:\n",
        "                    if (i == k):\n",
        "                        return False\n",
        "    return True\n",
        "lst_a = [1 , 2 , 3 , 4]\n",
        "lst_b = [3 , 4 , 5 , 6]\n",
        "lst_c = [5 , 6 , 7 , 8]\n",
        "print(disjoint(lst_a , lst_b , lst_c))"
      ],
      "metadata": {
        "id": "c_3Woy43k34i",
        "outputId": "4ecf0acd-bf06-4f8f-f73c-fba62a60c071",
        "colab": {
          "base_uri": "https://localhost:8080/"
        }
      },
      "execution_count": 7,
      "outputs": [
        {
          "output_type": "stream",
          "name": "stdout",
          "text": [
            "True\n"
          ]
        }
      ]
    },
    {
      "cell_type": "code",
      "source": [
        "def r(a):\n",
        "    n = len(a)\n",
        "    x = [None] * n\n",
        "    for i in range(n):\n",
        "        x[n - 1 - i] = a[i]\n",
        "    return x\n",
        "num = [1 , 2 , 3 , 4]\n",
        "print(r(num))"
      ],
      "metadata": {
        "id": "UXS5w72zk45E",
        "outputId": "1e1ea1f3-eaad-4a61-ec8f-eea04649b46c",
        "colab": {
          "base_uri": "https://localhost:8080/"
        }
      },
      "execution_count": 8,
      "outputs": [
        {
          "output_type": "stream",
          "name": "stdout",
          "text": [
            "[4, 3, 2, 1]\n"
          ]
        }
      ]
    },
    {
      "cell_type": "code",
      "source": [
        "def r(a):\n",
        "    n = len(a)\n",
        "    x = [None] * n\n",
        "    for i in range(n // 2):\n",
        "        x[i] = a[n - 1 - i]\n",
        "        x[n - 1 - i] = a[i]\n",
        "    return x\n",
        "num = [1 , 2 , 3 , 4]\n",
        "print(r(num))"
      ],
      "metadata": {
        "id": "nTYBaqJVk-hm",
        "outputId": "e5961a6f-e5d9-462c-ebc9-b3a9fcbcaaa9",
        "colab": {
          "base_uri": "https://localhost:8080/"
        }
      },
      "execution_count": 9,
      "outputs": [
        {
          "output_type": "stream",
          "name": "stdout",
          "text": [
            "[4, 3, 2, 1]\n"
          ]
        }
      ]
    }
  ]
}