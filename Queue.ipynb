{
  "nbformat": 4,
  "nbformat_minor": 0,
  "metadata": {
    "colab": {
      "provenance": [],
      "authorship_tag": "ABX9TyNsGqoAA8owpwHum9AluCWt",
      "include_colab_link": true
    },
    "kernelspec": {
      "name": "python3",
      "display_name": "Python 3"
    },
    "language_info": {
      "name": "python"
    }
  },
  "cells": [
    {
      "cell_type": "markdown",
      "metadata": {
        "id": "view-in-github",
        "colab_type": "text"
      },
      "source": [
        "<a href=\"https://colab.research.google.com/github/Elina-Nik/nothing/blob/main/Queue.ipynb\" target=\"_parent\"><img src=\"https://colab.research.google.com/assets/colab-badge.svg\" alt=\"Open In Colab\"/></a>"
      ]
    },
    {
      "cell_type": "code",
      "execution_count": 2,
      "metadata": {
        "id": "0E_6tfMqhe3M",
        "outputId": "2bd6de82-5d19-4ebb-d9ae-392374dc026c",
        "colab": {
          "base_uri": "https://localhost:8080/"
        }
      },
      "outputs": [
        {
          "output_type": "stream",
          "name": "stdout",
          "text": [
            "56\n",
            "23\n",
            "88\n",
            "-------------\n",
            "23\n",
            "88\n"
          ]
        }
      ],
      "source": [
        "class Queue:\n",
        "\n",
        "  def __init__(self, k):\n",
        "    self.k = k\n",
        "    self.queue = [None] * k\n",
        "    self.front = -1\n",
        "    self.rear = -1\n",
        "\n",
        "  def disqueue(self):\n",
        "    if (self.front == -1):\n",
        "      print('empty')\n",
        "    for i in range(self.front, self.rear + 1):\n",
        "      print(self.queue[i])\n",
        "\n",
        "  def insqueue(self, data):\n",
        "    if self.rear == -1:\n",
        "      self.rear = 0\n",
        "      self.front = 0\n",
        "      self.queue[0] = data\n",
        "    elif (self.rear + 1 == self.k):\n",
        "      print('is full')\n",
        "    else:\n",
        "      self.rear += 1\n",
        "      self.queue[self.rear] = data\n",
        "\n",
        "  def delqueue(self):\n",
        "    if (self.front == -1):\n",
        "      print('empty')\n",
        "    elif self.rear == self.front:\n",
        "      t = self.queue[self.front]\n",
        "      self.rear = -1\n",
        "      self.front = -1\n",
        "      return t\n",
        "    else:\n",
        "      t = self.queue[self.front]\n",
        "      self.front += 1\n",
        "      return t\n",
        "\n",
        "\n",
        "q = Queue(4)\n",
        "q.insqueue(56)\n",
        "q.insqueue(23)\n",
        "q.insqueue(88)\n",
        "q.disqueue()\n",
        "print(\"-------------\")\n",
        "q.delqueue()\n",
        "q.disqueue()"
      ]
    },
    {
      "cell_type": "code",
      "source": [
        "class Queue_c:\n",
        "\n",
        "  def __init__(self, k):\n",
        "    self.k = k\n",
        "    self.queue = [None] * k\n",
        "    self.front = -1\n",
        "    self.rear = -1\n",
        "\n",
        "  def disqueue_c(self):\n",
        "    if (self.front == -1):\n",
        "      print('empty')\n",
        "    elif (self.front < self.rear):\n",
        "      for i in range(self.front,self.rear + 1):\n",
        "        print(self.queue[i])\n",
        "    else:\n",
        "      for j in range(self.front, self.k):\n",
        "        print(self.queue[j])\n",
        "      for i in range(self.rear + 1):\n",
        "        print(self.queue[i])\n",
        "\n",
        "  def insqueue_c(self, data):\n",
        "    if (self.rear == -1):\n",
        "      self.rear = 0\n",
        "      self.front = 0\n",
        "      self.queue[0] = data\n",
        "    elif ((self.rear + 1) % self.k == self.front):\n",
        "      print('is full')\n",
        "    else:\n",
        "      self.rear = (self.rear + 1) % self.k\n",
        "      self.queue[self.rear] = data\n",
        "\n",
        "  def delqueue_c(self):\n",
        "    if self.front == -1:\n",
        "      print('empty')\n",
        "    elif self.rear == self.front:\n",
        "      t = self.queue[self.front]\n",
        "      self.rear = -1\n",
        "      self.front = -1\n",
        "      return t\n",
        "    else:\n",
        "      t = self.queue[self.front]\n",
        "      self.front = (self.front + 1) % self.k\n",
        "      return t\n",
        "\n",
        "\n",
        "q = Queue_c(4)\n",
        "q.insqueue_c(56)\n",
        "q.insqueue_c(23)\n",
        "q.insqueue_c(88)\n",
        "q.disqueue_c()\n",
        "print(\"-------------\")\n",
        "q.delqueue_c()\n",
        "q.disqueue_c()"
      ],
      "metadata": {
        "id": "ToUipFdFhhlZ",
        "outputId": "b6756a6b-18a7-43ba-9323-2486fb650eee",
        "colab": {
          "base_uri": "https://localhost:8080/"
        }
      },
      "execution_count": 6,
      "outputs": [
        {
          "output_type": "stream",
          "name": "stdout",
          "text": [
            "56\n",
            "23\n",
            "88\n",
            "-------------\n",
            "23\n",
            "88\n"
          ]
        }
      ]
    }
  ]
}