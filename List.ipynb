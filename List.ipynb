{
  "nbformat": 4,
  "nbformat_minor": 0,
  "metadata": {
    "colab": {
      "provenance": [],
      "authorship_tag": "ABX9TyNrEiq/AlkSlCZ9F6KXRAwh",
      "include_colab_link": true
    },
    "kernelspec": {
      "name": "python3",
      "display_name": "Python 3"
    },
    "language_info": {
      "name": "python"
    }
  },
  "cells": [
    {
      "cell_type": "markdown",
      "metadata": {
        "id": "view-in-github",
        "colab_type": "text"
      },
      "source": [
        "<a href=\"https://colab.research.google.com/github/Elina-Nik/nothing/blob/main/List.ipynb\" target=\"_parent\"><img src=\"https://colab.research.google.com/assets/colab-badge.svg\" alt=\"Open In Colab\"/></a>"
      ]
    },
    {
      "cell_type": "code",
      "execution_count": 9,
      "metadata": {
        "id": "zS60kk_ajQ3T",
        "outputId": "db7a60bc-72f4-487b-9c37-9971ead15609",
        "colab": {
          "base_uri": "https://localhost:8080/"
        }
      },
      "outputs": [
        {
          "output_type": "stream",
          "name": "stdout",
          "text": [
            "6 --> 7 --> 8 --> None\n",
            "6 --> 7 --> 10 --> 8 --> None\n"
          ]
        }
      ],
      "source": [
        "class Node:\n",
        "\n",
        "  def __init__(self, d):\n",
        "    self.data = d\n",
        "    self.next = None\n",
        "\n",
        "class LinkedList:\n",
        "\n",
        "  def __init__(self):\n",
        "    self.head = None\n",
        "\n",
        "  def display(self):\n",
        "    t = self.head\n",
        "    while(t != None):\n",
        "      print(t.data, end= ' --> ')\n",
        "      t = t.next\n",
        "    print(None)\n",
        "\n",
        "  def addinstart(self, data):\n",
        "    n = Node(data)\n",
        "    n.next = self.head\n",
        "    self.head = n\n",
        "\n",
        "  def addinend(self, data):\n",
        "    n = Node(data)\n",
        "    t = self.head\n",
        "    if (t == None):\n",
        "      self.head = n\n",
        "    else:\n",
        "      while (t.next != None):\n",
        "        t = t.next\n",
        "      t.next = n\n",
        "\n",
        "  def addafter(self, m, data):\n",
        "    n = Node(data)\n",
        "    t= self.head\n",
        "    while(t.data != m):\n",
        "      t = t.next\n",
        "    n.next = t.next\n",
        "    t.next = n\n",
        "\n",
        "  def delfirst(self):\n",
        "    if(self.head == None):\n",
        "      return 'empty'\n",
        "    else:\n",
        "      self.head = self.head.next\n",
        "\n",
        "  def dellast(self):\n",
        "    t = self.head\n",
        "    if (t == None):\n",
        "      return 'empty'\n",
        "    elif (t.next == None):\n",
        "      t = None\n",
        "    else:\n",
        "      while (t.next.next != None):\n",
        "        t = t.next\n",
        "      t.next = None\n",
        "\n",
        "  def delafter(self, m):\n",
        "    t = self.head\n",
        "    while (t.data != m):\n",
        "      t = t.next\n",
        "    t.next = t.next.next\n",
        "\n",
        "########### MAIN ####################3\n",
        "t = Node(4)\n",
        "n = LinkedList()\n",
        "n.addinstart(6)\n",
        "n.addinend(7)\n",
        "n.addinend(8)\n",
        "n.display()\n",
        "n.addafter(7, 10)\n",
        "n.display()"
      ]
    },
    {
      "cell_type": "code",
      "source": [
        "class dnode:\n",
        "\n",
        "  def __init__(self,data):\n",
        "    self.data = data\n",
        "    self.next = None\n",
        "    self.prev = None\n",
        "\n",
        "class cdlinkedlist:\n",
        "\n",
        "  def __init__(self):\n",
        "    self.head = None\n",
        "\n",
        "  def display(self):\n",
        "    t = self.head\n",
        "    while (t.next != self.head):\n",
        "      print(t.data, end= ' <--> ')\n",
        "      t = t.next\n",
        "    print(t.data)\n",
        "\n",
        "  def addfirst(self, data):\n",
        "    n = Node(data)\n",
        "    if (self.head == None):\n",
        "      self.head = n\n",
        "      n.next = n\n",
        "      n.prev = n\n",
        "      return\n",
        "    else:\n",
        "      n.next = self.head\n",
        "      self.head.prev = n\n",
        "      t = self.head\n",
        "      while t.next != self.head:\n",
        "        t = t.next\n",
        "      t.next = n\n",
        "      n.prev = t\n",
        "      self.head = n\n",
        "\n",
        "  def addafter(self, m, data):\n",
        "    if (self.head == None):\n",
        "      return -1\n",
        "    else:\n",
        "      n = Node(data)\n",
        "      t = self.head\n",
        "      while (t.data != m):\n",
        "        t = t.data\n",
        "      n.next = t.next\n",
        "      t.next.prev = n\n",
        "      t.next = n\n",
        "      n.prev = t\n",
        "\n",
        "  def delete(self, m):\n",
        "    if (self.head == None):\n",
        "      print('empty')\n",
        "      return\n",
        "    elif (self.head.next == self.head) and (self.head.prev == self.head):\n",
        "      if (self.head.data == m):\n",
        "        self.head == None\n",
        "        return\n",
        "      return -1\n",
        "    else:\n",
        "      t = self.head\n",
        "      while (t.data != m):\n",
        "        t = t.next\n",
        "        if (t == self.head):\n",
        "          return -1\n",
        "      t.prev.next = t.next\n",
        "      t.next.prev = t.prev\n",
        "      t.next = None\n",
        "      t.prev = None\n",
        "\n",
        "########### MAIN ####################3\n",
        "t = dnode(4)\n",
        "n = cdlinkedlist()\n",
        "n.addfirst(6)\n",
        "n.addafter(6, 7)\n",
        "n.addafter(6, 8)\n",
        "n.display()\n"
      ],
      "metadata": {
        "id": "N16MaiMqj4VA",
        "outputId": "0726bada-141b-4c50-ba46-b59dbd997c30",
        "colab": {
          "base_uri": "https://localhost:8080/"
        }
      },
      "execution_count": 14,
      "outputs": [
        {
          "output_type": "stream",
          "name": "stdout",
          "text": [
            "6 <--> 8 <--> 7\n"
          ]
        }
      ]
    }
  ]
}